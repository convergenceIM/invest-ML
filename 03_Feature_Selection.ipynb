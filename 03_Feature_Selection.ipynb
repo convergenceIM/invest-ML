{
 "cells": [
  {
   "cell_type": "markdown",
   "metadata": {},
   "source": [
    "# How-To Guide into Feature Selection  \n",
    "\n",
    "## Introduction\n",
    "\n",
    "This is the third post in my series on transforming data into alpha.  If you haven't yet see the [framework overview]() or [feature engineering guide](), please take a minute to read that first...    \n",
    "\n",
    "This post is going to delve into the mechanics of _feature selection_, in other words choosing between the many variations of features you've created in the feature engineering stage.   By design, many of the features you've created will be very similar to each other (aka \"collinear\") because you've derived them from the same underlying dataset.  \n",
    "\n",
    "## Motivation\n",
    "\n",
    "The previous step of the process, feature engineering, is intended to be a creative, loose process akin to a brainstorming session.  The result should be tens (or hundreds) of variations of features to evaluate.  However, most models will _generalize_ better (i.e., work well on data they haven't seen) with fewer features.  They will also be much more interpretable.  \n",
    "\n",
    "Therefore, we need a systematic approach to deciding which of the many posible features to use.  That's where the _feature selection_ process comes in.   \n"
   ]
  },
  {
   "cell_type": "markdown",
   "metadata": {},
   "source": [
    "## Philosophy\n",
    "\n",
    "In feature selection, we strive to meet two goals:\n",
    "1. __Strength__:  Choose the features with the strongest, most persistent relationships to the target outcome variable.  The reasons for this are obvious.\n",
    "2. __Orthogonality__:  Minimize the amount of overlap or collinearity in your selected features.  The importance of orthogonality (non-overlap) of features is much greater than you might guess.  \n",
    "\n",
    "I am biased towards making feature selection a relatively mechanical process.  The \"art\" should mainly be encapsulated within the prior step (feature engineering) and the subsequent step (modeling).  Feature selection should, in my view, follow a heuristic and can be encoded into an algorithm if desired.  For purposes of this tutorial, I'll keep things relatively manual.   \n",
    "\n",
    "## Getting Started\n",
    "Let's dive in.  I will begin by loading the feature set created in the prior step.  I'm also going to create the _outcomes_ `DataFrame` as done in the Framework Overview post.  Please refer to those if you haven't already.  \n",
    "\n"
   ]
  },
  {
   "cell_type": "code",
   "execution_count": 18,
   "metadata": {
    "collapsed": true
   },
   "outputs": [],
   "source": []
  },
  {
   "cell_type": "code",
   "execution_count": 44,
   "metadata": {},
   "outputs": [
    {
     "data": {
      "text/html": [
       "<div>\n",
       "<style scoped>\n",
       "    .dataframe tbody tr th:only-of-type {\n",
       "        vertical-align: middle;\n",
       "    }\n",
       "\n",
       "    .dataframe tbody tr th {\n",
       "        vertical-align: top;\n",
       "    }\n",
       "\n",
       "    .dataframe thead th {\n",
       "        text-align: right;\n",
       "    }\n",
       "</style>\n",
       "<table border=\"1\" class=\"dataframe\">\n",
       "  <thead>\n",
       "    <tr style=\"text-align: right;\">\n",
       "      <th></th>\n",
       "      <th></th>\n",
       "      <th>open</th>\n",
       "      <th>high</th>\n",
       "      <th>low</th>\n",
       "      <th>close</th>\n",
       "      <th>volume</th>\n",
       "    </tr>\n",
       "    <tr>\n",
       "      <th>date</th>\n",
       "      <th>symbol</th>\n",
       "      <th></th>\n",
       "      <th></th>\n",
       "      <th></th>\n",
       "      <th></th>\n",
       "      <th></th>\n",
       "    </tr>\n",
       "  </thead>\n",
       "  <tbody>\n",
       "    <tr>\n",
       "      <th>2018-03-26</th>\n",
       "      <th>MSFT</th>\n",
       "      <td>90.61</td>\n",
       "      <td>94.000</td>\n",
       "      <td>90.40</td>\n",
       "      <td>93.78</td>\n",
       "      <td>55031149.0</td>\n",
       "    </tr>\n",
       "    <tr>\n",
       "      <th rowspan=\"4\" valign=\"top\">2018-03-27</th>\n",
       "      <th>AAPL</th>\n",
       "      <td>173.68</td>\n",
       "      <td>175.150</td>\n",
       "      <td>166.92</td>\n",
       "      <td>168.34</td>\n",
       "      <td>38962839.0</td>\n",
       "    </tr>\n",
       "    <tr>\n",
       "      <th>AMZN</th>\n",
       "      <td>1572.40</td>\n",
       "      <td>1575.960</td>\n",
       "      <td>1482.32</td>\n",
       "      <td>1497.05</td>\n",
       "      <td>6793279.0</td>\n",
       "    </tr>\n",
       "    <tr>\n",
       "      <th>CSCO</th>\n",
       "      <td>44.49</td>\n",
       "      <td>44.520</td>\n",
       "      <td>42.24</td>\n",
       "      <td>42.68</td>\n",
       "      <td>30088447.0</td>\n",
       "    </tr>\n",
       "    <tr>\n",
       "      <th>MSFT</th>\n",
       "      <td>94.94</td>\n",
       "      <td>95.139</td>\n",
       "      <td>88.51</td>\n",
       "      <td>89.47</td>\n",
       "      <td>53704562.0</td>\n",
       "    </tr>\n",
       "  </tbody>\n",
       "</table>\n",
       "</div>"
      ],
      "text/plain": [
       "                      open      high      low    close      volume\n",
       "date       symbol                                                 \n",
       "2018-03-26 MSFT      90.61    94.000    90.40    93.78  55031149.0\n",
       "2018-03-27 AAPL     173.68   175.150   166.92   168.34  38962839.0\n",
       "           AMZN    1572.40  1575.960  1482.32  1497.05   6793279.0\n",
       "           CSCO      44.49    44.520    42.24    42.68  30088447.0\n",
       "           MSFT      94.94    95.139    88.51    89.47  53704562.0"
      ]
     },
     "execution_count": 44,
     "metadata": {},
     "output_type": "execute_result"
    }
   ],
   "source": [
    "import numpy as np\n",
    "import pandas as pd\n",
    "pd.core.common.is_list_like = pd.api.types.is_list_like # remove once updated pandas-datareader issue is fixed\n",
    "# https://github.com/pydata/pandas-datareader/issues/534\n",
    "import pandas_datareader.data as web\n",
    "%matplotlib inline\n",
    "\n",
    "def get_symbols(symbols,data_source, begin_date=None,end_date=None):\n",
    "    out = pd.DataFrame()\n",
    "    for symbol in symbols:\n",
    "        df = web.DataReader(symbol, data_source,begin_date, end_date)[['AdjOpen','AdjHigh','AdjLow','AdjClose','AdjVolume']].reset_index()\n",
    "        df.columns = ['date','open','high','low','close','volume'] #my convention: always lowercase\n",
    "        df['symbol'] = symbol # add a new column which contains the symbol so we can keep multiple symbols in the same dataframe\n",
    "        df = df.set_index(['date','symbol'])\n",
    "        out = pd.concat([out,df],axis=0) #stacks on top of previously collected data\n",
    "    return out.sort_index()\n",
    "        \n",
    "prices = get_symbols(['AAPL','CSCO','AMZN','YHOO','MSFT'],data_source='quandl',begin_date='2012-01-01',end_date=None)\n",
    "\n",
    "prices.sort_index().tail()"
   ]
  },
  {
   "cell_type": "code",
   "execution_count": null,
   "metadata": {},
   "outputs": [],
   "source": []
  },
  {
   "cell_type": "code",
   "execution_count": 45,
   "metadata": {},
   "outputs": [
    {
     "data": {
      "text/html": [
       "<div>\n",
       "<style scoped>\n",
       "    .dataframe tbody tr th:only-of-type {\n",
       "        vertical-align: middle;\n",
       "    }\n",
       "\n",
       "    .dataframe tbody tr th {\n",
       "        vertical-align: top;\n",
       "    }\n",
       "\n",
       "    .dataframe thead th {\n",
       "        text-align: right;\n",
       "    }\n",
       "</style>\n",
       "<table border=\"1\" class=\"dataframe\">\n",
       "  <thead>\n",
       "    <tr style=\"text-align: right;\">\n",
       "      <th></th>\n",
       "      <th></th>\n",
       "      <th>close_1</th>\n",
       "      <th>close_5</th>\n",
       "      <th>close_10</th>\n",
       "      <th>close_20</th>\n",
       "    </tr>\n",
       "    <tr>\n",
       "      <th>date</th>\n",
       "      <th>symbol</th>\n",
       "      <th></th>\n",
       "      <th></th>\n",
       "      <th></th>\n",
       "      <th></th>\n",
       "    </tr>\n",
       "  </thead>\n",
       "  <tbody>\n",
       "    <tr>\n",
       "      <th>2018-03-26</th>\n",
       "      <th>MSFT</th>\n",
       "      <td>-0.442913</td>\n",
       "      <td>NaN</td>\n",
       "      <td>NaN</td>\n",
       "      <td>NaN</td>\n",
       "    </tr>\n",
       "    <tr>\n",
       "      <th rowspan=\"4\" valign=\"top\">2018-03-27</th>\n",
       "      <th>AAPL</th>\n",
       "      <td>-0.887552</td>\n",
       "      <td>NaN</td>\n",
       "      <td>NaN</td>\n",
       "      <td>NaN</td>\n",
       "    </tr>\n",
       "    <tr>\n",
       "      <th>AMZN</th>\n",
       "      <td>34.076148</td>\n",
       "      <td>NaN</td>\n",
       "      <td>NaN</td>\n",
       "      <td>NaN</td>\n",
       "    </tr>\n",
       "    <tr>\n",
       "      <th>CSCO</th>\n",
       "      <td>-0.522969</td>\n",
       "      <td>NaN</td>\n",
       "      <td>NaN</td>\n",
       "      <td>NaN</td>\n",
       "    </tr>\n",
       "    <tr>\n",
       "      <th>MSFT</th>\n",
       "      <td>NaN</td>\n",
       "      <td>NaN</td>\n",
       "      <td>NaN</td>\n",
       "      <td>NaN</td>\n",
       "    </tr>\n",
       "  </tbody>\n",
       "</table>\n",
       "</div>"
      ],
      "text/plain": [
       "                     close_1  close_5  close_10  close_20\n",
       "date       symbol                                        \n",
       "2018-03-26 MSFT    -0.442913      NaN       NaN       NaN\n",
       "2018-03-27 AAPL    -0.887552      NaN       NaN       NaN\n",
       "           AMZN    34.076148      NaN       NaN       NaN\n",
       "           CSCO    -0.522969      NaN       NaN       NaN\n",
       "           MSFT          NaN      NaN       NaN       NaN"
      ]
     },
     "execution_count": 45,
     "metadata": {},
     "output_type": "execute_result"
    }
   ],
   "source": [
    "outcomes = pd.DataFrame(index=prices.index)\n",
    "# next day's opening change\n",
    "outcomes['close_1'] = prices.groupby(level='symbol').close.pct_change(-1) # next day's returns\n",
    "outcomes['close_5'] = prices.groupby(level='symbol').close.pct_change(-5) # next week's returns\n",
    "outcomes['close_10'] = prices.groupby(level='symbol').close.pct_change(-10) # next two weeks' returns\n",
    "outcomes['close_20'] = prices.groupby(level='symbol').close.pct_change(-20) # next month's (approx) returns\n",
    "\n",
    "outcomes.tail()"
   ]
  },
  {
   "cell_type": "markdown",
   "metadata": {},
   "source": [
    "For purposes of illustration, we'll engineer some features to contain some signal buried within the noise.  Clearly, this is not something we'd do in real usage but will help to demonstrate the concept more clearly.  \n",
    "\n",
    "Assume we have a target variable called `outcome` which can be (partially) predicted with three factors, `factor_1`, `factor_2` and `factor_3`.  There's also an unpredictble noise component.  We will \"cheat\" and create the overall target variable from these factors.  All data will follow the same index as the market data we pulled from quandl.  "
   ]
  },
  {
   "cell_type": "code",
   "execution_count": 137,
   "metadata": {},
   "outputs": [
    {
     "data": {
      "text/plain": [
       "date        symbol\n",
       "2018-03-26  MSFT     -6.021709\n",
       "2018-03-27  AAPL     -0.067145\n",
       "            AMZN     -5.456769\n",
       "            CSCO      6.428670\n",
       "            MSFT     -2.898932\n",
       "Name: outcome, dtype: float64"
      ]
     },
     "execution_count": 137,
     "metadata": {},
     "output_type": "execute_result"
    }
   ],
   "source": [
    "num_obs = prices.close.count()\n",
    "factor_1 = pd.Series(np.random.randn(num_obs),index=prices.index)\n",
    "factor_2 = pd.Series(np.random.randn(num_obs),index=prices.index)\n",
    "factor_3 = pd.Series(np.random.randn(num_obs),index=prices.index)\n",
    "outcome = 1.*factor_1 + 2.*factor_2 + 3.*factor_3 + 5.*np.random.randn(num_obs)\n",
    "outcome.name = 'outcome'\n",
    "outcome.tail()\n"
   ]
  },
  {
   "cell_type": "markdown",
   "metadata": {},
   "source": [
    "Now, we will engineer several variations on features which each contain some information about the three factors, plus a few which contain some interaction effects, and some which do not contain any useful data.  \n",
    "\n",
    "Note that we are, again, \"cheating\" here for illustration purposes. "
   ]
  },
  {
   "cell_type": "code",
   "execution_count": 138,
   "metadata": {},
   "outputs": [
    {
     "data": {
      "text/html": [
       "<div>\n",
       "<style scoped>\n",
       "    .dataframe tbody tr th:only-of-type {\n",
       "        vertical-align: middle;\n",
       "    }\n",
       "\n",
       "    .dataframe tbody tr th {\n",
       "        vertical-align: top;\n",
       "    }\n",
       "\n",
       "    .dataframe thead th {\n",
       "        text-align: right;\n",
       "    }\n",
       "</style>\n",
       "<table border=\"1\" class=\"dataframe\">\n",
       "  <thead>\n",
       "    <tr style=\"text-align: right;\">\n",
       "      <th></th>\n",
       "      <th></th>\n",
       "      <th>f11</th>\n",
       "      <th>f12</th>\n",
       "      <th>f13</th>\n",
       "      <th>f21</th>\n",
       "      <th>f22</th>\n",
       "      <th>f23</th>\n",
       "      <th>f31</th>\n",
       "      <th>f32</th>\n",
       "      <th>f33</th>\n",
       "      <th>f41</th>\n",
       "      <th>f42</th>\n",
       "      <th>f43</th>\n",
       "      <th>f51</th>\n",
       "      <th>f52</th>\n",
       "      <th>f53</th>\n",
       "    </tr>\n",
       "    <tr>\n",
       "      <th>date</th>\n",
       "      <th>symbol</th>\n",
       "      <th></th>\n",
       "      <th></th>\n",
       "      <th></th>\n",
       "      <th></th>\n",
       "      <th></th>\n",
       "      <th></th>\n",
       "      <th></th>\n",
       "      <th></th>\n",
       "      <th></th>\n",
       "      <th></th>\n",
       "      <th></th>\n",
       "      <th></th>\n",
       "      <th></th>\n",
       "      <th></th>\n",
       "      <th></th>\n",
       "    </tr>\n",
       "  </thead>\n",
       "  <tbody>\n",
       "    <tr>\n",
       "      <th>2018-03-26</th>\n",
       "      <th>MSFT</th>\n",
       "      <td>-0.330287</td>\n",
       "      <td>-0.301382</td>\n",
       "      <td>0.607462</td>\n",
       "      <td>-1.417536</td>\n",
       "      <td>-1.183573</td>\n",
       "      <td>-0.035869</td>\n",
       "      <td>-0.211020</td>\n",
       "      <td>0.808632</td>\n",
       "      <td>0.298891</td>\n",
       "      <td>0.534642</td>\n",
       "      <td>1.409062</td>\n",
       "      <td>0.027119</td>\n",
       "      <td>0.813035</td>\n",
       "      <td>-0.200997</td>\n",
       "      <td>-0.635211</td>\n",
       "    </tr>\n",
       "    <tr>\n",
       "      <th rowspan=\"4\" valign=\"top\">2018-03-27</th>\n",
       "      <th>AAPL</th>\n",
       "      <td>1.009102</td>\n",
       "      <td>0.171895</td>\n",
       "      <td>0.663211</td>\n",
       "      <td>0.245523</td>\n",
       "      <td>0.010586</td>\n",
       "      <td>-1.078761</td>\n",
       "      <td>0.235479</td>\n",
       "      <td>-0.405390</td>\n",
       "      <td>-0.188394</td>\n",
       "      <td>-0.329231</td>\n",
       "      <td>-0.937913</td>\n",
       "      <td>0.849531</td>\n",
       "      <td>-0.847630</td>\n",
       "      <td>-0.811553</td>\n",
       "      <td>1.040533</td>\n",
       "    </tr>\n",
       "    <tr>\n",
       "      <th>AMZN</th>\n",
       "      <td>0.474684</td>\n",
       "      <td>0.109528</td>\n",
       "      <td>-1.258285</td>\n",
       "      <td>-1.335289</td>\n",
       "      <td>-1.548714</td>\n",
       "      <td>-1.523491</td>\n",
       "      <td>-0.079519</td>\n",
       "      <td>-0.537996</td>\n",
       "      <td>-0.613057</td>\n",
       "      <td>0.071878</td>\n",
       "      <td>-0.726844</td>\n",
       "      <td>-1.089844</td>\n",
       "      <td>-0.258284</td>\n",
       "      <td>0.976686</td>\n",
       "      <td>0.122298</td>\n",
       "    </tr>\n",
       "    <tr>\n",
       "      <th>CSCO</th>\n",
       "      <td>-0.987868</td>\n",
       "      <td>-0.567850</td>\n",
       "      <td>-0.013822</td>\n",
       "      <td>-0.074307</td>\n",
       "      <td>0.176154</td>\n",
       "      <td>-0.359720</td>\n",
       "      <td>-0.608047</td>\n",
       "      <td>0.159567</td>\n",
       "      <td>-0.277738</td>\n",
       "      <td>-0.071830</td>\n",
       "      <td>0.034482</td>\n",
       "      <td>0.832861</td>\n",
       "      <td>-1.908958</td>\n",
       "      <td>1.490623</td>\n",
       "      <td>1.006254</td>\n",
       "    </tr>\n",
       "    <tr>\n",
       "      <th>MSFT</th>\n",
       "      <td>0.135081</td>\n",
       "      <td>1.050842</td>\n",
       "      <td>1.717403</td>\n",
       "      <td>-1.112967</td>\n",
       "      <td>-0.370984</td>\n",
       "      <td>-1.860316</td>\n",
       "      <td>1.255581</td>\n",
       "      <td>-0.569168</td>\n",
       "      <td>-0.603642</td>\n",
       "      <td>-0.321969</td>\n",
       "      <td>-0.662723</td>\n",
       "      <td>-0.861969</td>\n",
       "      <td>-2.587003</td>\n",
       "      <td>-0.989485</td>\n",
       "      <td>0.401158</td>\n",
       "    </tr>\n",
       "  </tbody>\n",
       "</table>\n",
       "</div>"
      ],
      "text/plain": [
       "                        f11       f12       f13       f21       f22       f23  \\\n",
       "date       symbol                                                               \n",
       "2018-03-26 MSFT   -0.330287 -0.301382  0.607462 -1.417536 -1.183573 -0.035869   \n",
       "2018-03-27 AAPL    1.009102  0.171895  0.663211  0.245523  0.010586 -1.078761   \n",
       "           AMZN    0.474684  0.109528 -1.258285 -1.335289 -1.548714 -1.523491   \n",
       "           CSCO   -0.987868 -0.567850 -0.013822 -0.074307  0.176154 -0.359720   \n",
       "           MSFT    0.135081  1.050842  1.717403 -1.112967 -0.370984 -1.860316   \n",
       "\n",
       "                        f31       f32       f33       f41       f42       f43  \\\n",
       "date       symbol                                                               \n",
       "2018-03-26 MSFT   -0.211020  0.808632  0.298891  0.534642  1.409062  0.027119   \n",
       "2018-03-27 AAPL    0.235479 -0.405390 -0.188394 -0.329231 -0.937913  0.849531   \n",
       "           AMZN   -0.079519 -0.537996 -0.613057  0.071878 -0.726844 -1.089844   \n",
       "           CSCO   -0.608047  0.159567 -0.277738 -0.071830  0.034482  0.832861   \n",
       "           MSFT    1.255581 -0.569168 -0.603642 -0.321969 -0.662723 -0.861969   \n",
       "\n",
       "                        f51       f52       f53  \n",
       "date       symbol                                \n",
       "2018-03-26 MSFT    0.813035 -0.200997 -0.635211  \n",
       "2018-03-27 AAPL   -0.847630 -0.811553  1.040533  \n",
       "           AMZN   -0.258284  0.976686  0.122298  \n",
       "           CSCO   -1.908958  1.490623  1.006254  \n",
       "           MSFT   -2.587003 -0.989485  0.401158  "
      ]
     },
     "execution_count": 138,
     "metadata": {},
     "output_type": "execute_result"
    }
   ],
   "source": [
    "features = pd.DataFrame(index=outcome.index)\n",
    "features['f11'] = 0.2*factor_1 + 0.8*np.random.randn(num_obs)\n",
    "features['f12'] = 0.4*factor_1 + 0.6*np.random.randn(num_obs)\n",
    "features['f13'] = 0.6*factor_1 + 0.4*np.random.randn(num_obs)\n",
    "\n",
    "features['f21'] = 0.2*factor_2 + 0.8*np.random.randn(num_obs)\n",
    "features['f22'] = 0.4*factor_2 + 0.8*np.random.randn(num_obs)\n",
    "features['f23'] = 0.6*factor_2 + 0.4*np.random.randn(num_obs)\n",
    "\n",
    "features['f31'] = 0.2*factor_3 + 0.8*np.random.randn(num_obs)\n",
    "features['f32'] = 0.4*factor_3 + 0.6*np.random.randn(num_obs)\n",
    "features['f33'] = 0.6*factor_3 + 0.4*np.random.randn(num_obs)\n",
    "\n",
    "features['f41'] = 0.2*factor_1+0.2*factor_2 + 0.6*np.random.randn(num_obs)\n",
    "features['f42'] = 0.2*factor_2+0.2*factor_3 + 0.6*np.random.randn(num_obs)\n",
    "features['f43'] = 0.2*factor_3+0.2*factor_1 + 0.6*np.random.randn(num_obs)\n",
    "\n",
    "features['f51'] = np.random.randn(num_obs)\n",
    "features['f52'] = np.random.randn(num_obs)\n",
    "features['f53'] = np.random.randn(num_obs)\n",
    "\n",
    "features.tail()\n"
   ]
  },
  {
   "cell_type": "markdown",
   "metadata": {},
   "source": [
    "Next, we'll import the required packages and modules for the feature selection:"
   ]
  },
  {
   "cell_type": "code",
   "execution_count": 139,
   "metadata": {},
   "outputs": [],
   "source": [
    "import seaborn as sns\n",
    "\n",
    "import matplotlib.pyplot as plt\n",
    "%matplotlib inline\n",
    "from IPython.display import display\n",
    "\n",
    "from scipy.cluster import hierarchy\n",
    "from scipy.spatial import distance\n",
    "\n",
    "from sklearn.preprocessing import StandardScaler,Normalizer\n"
   ]
  },
  {
   "cell_type": "markdown",
   "metadata": {},
   "source": [
    "Before evaluating the features for predictive strength and orthogonality, we'll do a quick data preparation stage. It is sometimes vital to \"standardize\" or \"normalize\" data so that we get fair comparisons between features of differing scale.  Strictly speaking, since all of the doctored outcome and feature data is already drawn from normal distribution (using the numpy function `random.rnorm()`) we don't really need this step, but good practice to include.  \n",
    "\n",
    "Here, I'll use the scikit-learn `StandardizeScaler()` method and some pandas magic to transform the data.  "
   ]
  },
  {
   "cell_type": "code",
   "execution_count": 140,
   "metadata": {},
   "outputs": [
    {
     "name": "stdout",
     "output_type": "stream",
     "text": [
      "(7639, 15)\n"
     ]
    },
    {
     "data": {
      "text/html": [
       "<div>\n",
       "<style scoped>\n",
       "    .dataframe tbody tr th:only-of-type {\n",
       "        vertical-align: middle;\n",
       "    }\n",
       "\n",
       "    .dataframe tbody tr th {\n",
       "        vertical-align: top;\n",
       "    }\n",
       "\n",
       "    .dataframe thead th {\n",
       "        text-align: right;\n",
       "    }\n",
       "</style>\n",
       "<table border=\"1\" class=\"dataframe\">\n",
       "  <thead>\n",
       "    <tr style=\"text-align: right;\">\n",
       "      <th></th>\n",
       "      <th></th>\n",
       "      <th>outcome</th>\n",
       "    </tr>\n",
       "    <tr>\n",
       "      <th>date</th>\n",
       "      <th>symbol</th>\n",
       "      <th></th>\n",
       "    </tr>\n",
       "  </thead>\n",
       "  <tbody>\n",
       "    <tr>\n",
       "      <th>2018-03-26</th>\n",
       "      <th>MSFT</th>\n",
       "      <td>-0.962289</td>\n",
       "    </tr>\n",
       "    <tr>\n",
       "      <th rowspan=\"4\" valign=\"top\">2018-03-27</th>\n",
       "      <th>AAPL</th>\n",
       "      <td>-0.010457</td>\n",
       "    </tr>\n",
       "    <tr>\n",
       "      <th>AMZN</th>\n",
       "      <td>-0.871984</td>\n",
       "    </tr>\n",
       "    <tr>\n",
       "      <th>CSCO</th>\n",
       "      <td>1.027895</td>\n",
       "    </tr>\n",
       "    <tr>\n",
       "      <th>MSFT</th>\n",
       "      <td>-0.463116</td>\n",
       "    </tr>\n",
       "  </tbody>\n",
       "</table>\n",
       "</div>"
      ],
      "text/plain": [
       "                    outcome\n",
       "date       symbol          \n",
       "2018-03-26 MSFT   -0.962289\n",
       "2018-03-27 AAPL   -0.010457\n",
       "           AMZN   -0.871984\n",
       "           CSCO    1.027895\n",
       "           MSFT   -0.463116"
      ]
     },
     "execution_count": 140,
     "metadata": {},
     "output_type": "execute_result"
    }
   ],
   "source": [
    "#f = features.dropna() #optional - to compare apples to apples\n",
    "\n",
    "# standardize or normalize data \n",
    "std_scaler = StandardScaler()\n",
    "features_scaled = std_scaler.fit_transform(features.dropna()) \n",
    "print (features_scaled.shape)\n",
    "df = pd.DataFrame(features_scaled,index=features.dropna().index)\n",
    "df.columns = features.dropna().columns\n",
    "df.tail()\n",
    "\n",
    "# standardize outcome as well \n",
    "outcome_df = outcome.to_frame()\n",
    "outcome_scaled = std_scaler.fit_transform(outcome_df.dropna()) \n",
    "outcome_scaled = pd.DataFrame(outcome_scaled,index=outcome_df.dropna().index)\n",
    "outcome_scaled.columns = outcome_df.columns\n",
    "outcome_scaled.tail()\n"
   ]
  },
  {
   "cell_type": "code",
   "execution_count": null,
   "metadata": {},
   "outputs": [],
   "source": []
  },
  {
   "cell_type": "code",
   "execution_count": 141,
   "metadata": {},
   "outputs": [
    {
     "data": {
      "text/plain": [
       "<matplotlib.axes._subplots.AxesSubplot at 0x1a21bff128>"
      ]
     },
     "execution_count": 141,
     "metadata": {},
     "output_type": "execute_result"
    },
    {
     "data": {
      "image/png": "[encoded data removed]",
      "text/plain": [
       "<matplotlib.figure.Figure at 0x1a21d786d8>"
      ]
     },
     "metadata": {},
     "output_type": "display_data"
    }
   ],
   "source": [
    "corr = df.corrwith(outcome)\n",
    "corr.sort_values().plot.barh(color = 'blue',title = 'Strength of Correlation')"
   ]
  },
  {
   "cell_type": "markdown",
   "metadata": {},
   "source": [
    "Pretend for a minute that we don't know which features are going to be stronger and weaker, and which are going to tend to cluster together.  We've got an idea that there are some quite strong features, some weaker, and some useless.  \n",
    "Next, we'll take advantage of a very handy seaborn chart type called a \"clustermap\" which plots a heatmap representation of a correlation matrix and runs a clustering algorithm to group together the most closely related features.  \n",
    "\n",
    "Of course, the diagonal of dark green represents each feature being perfectly correlated with itself."
   ]
  },
  {
   "cell_type": "code",
   "execution_count": null,
   "metadata": {},
   "outputs": [],
   "source": []
  },
  {
   "cell_type": "code",
   "execution_count": 142,
   "metadata": {},
   "outputs": [
    {
     "data": {
      "image/png": "[encoded data removed]",
      "text/plain": [
       "<matplotlib.figure.Figure at 0x1a21b4d8d0>"
      ]
     },
     "metadata": {},
     "output_type": "display_data"
    }
   ],
   "source": [
    "\n",
    "corr_matrix = df.corr()\n",
    "correlations_array = np.asarray(corr_matrix)\n",
    "\n",
    "linkage = hierarchy.linkage(distance.pdist(correlations_array), method='average')\n",
    "\n",
    "g = sns.clustermap(corr_matrix,row_linkage=linkage,col_linkage=linkage,row_cluster=True,\\\n",
    "                   col_cluster=True,figsize=(10,10),cmap='Greens')\n",
    "plt.setp(g.ax_heatmap.yaxis.get_majorticklabels(), rotation=0)\n",
    "plt.show()\n",
    "\n",
    "label_order = corr_matrix.iloc[:,g.dendrogram_row.reordered_ind].columns\n",
    "\n"
   ]
  },
  {
   "cell_type": "markdown",
   "metadata": {},
   "source": [
    "The algorithm has done a good job of finding the groupings of features.  The cluster in the upper left captures `factor_1` (including some of the interaction effects).  `factor_3` is fairly well isolated in the lower right corner, and in the middle we can see `factor_2` as well as some of the noise features. \n",
    "\n",
    "Let's next focus in only on those features with correlations of greater than 0.1 to exclude the noise and weak features."
   ]
  },
  {
   "cell_type": "code",
   "execution_count": 143,
   "metadata": {},
   "outputs": [
    {
     "data": {
      "image/png": "[encoded data removed]",
      "text/plain": [
       "<matplotlib.figure.Figure at 0x1a21cfb5c0>"
      ]
     },
     "metadata": {},
     "output_type": "display_data"
    },
    {
     "name": "stdout",
     "output_type": "stream",
     "text": [
      "Correlation Strength:\n",
      "f33    0.403241\n",
      "f23    0.267566\n",
      "f32    0.265592\n",
      "f42    0.247980\n",
      "f43    0.210029\n",
      "f22    0.157990\n",
      "f41    0.148351\n",
      "f13    0.136825\n",
      "f31    0.127796\n",
      "f12    0.105062\n",
      "dtype: float64\n"
     ]
    }
   ],
   "source": [
    "correlated_features = corr[corr>0.1].index.tolist()\n",
    "corr_matrix = df[correlated_features].corr()\n",
    "correlations_array = np.asarray(corr_matrix)\n",
    "\n",
    "linkage = hierarchy.linkage(distance.pdist(correlations_array), method='average')\n",
    "\n",
    "g = sns.clustermap(corr_matrix,row_linkage=linkage,col_linkage=linkage,row_cluster=True,\\\n",
    "                   col_cluster=True,figsize=(6,6),cmap='Greens')\n",
    "plt.setp(g.ax_heatmap.yaxis.get_majorticklabels(), rotation=0)\n",
    "plt.show()\n",
    "\n",
    "label_order = corr_matrix.iloc[:,g.dendrogram_row.reordered_ind].columns\n",
    "print(\"Correlation Strength:\")\n",
    "print(corr[corr>0.1].sort_values(ascending=False))"
   ]
  },
  {
   "cell_type": "markdown",
   "metadata": {},
   "source": [
    "Ah, now the clusters look a bit sharper.  We'll follow a simple heuristic to manually select the features.  Those wishing to take this to the next level can decide how to encapsulate into an algorithm.  \n",
    "\n",
    "1. Take the most strongly correlated feature (f33) and add it to our list of selected features.\n",
    "2. Take the second correlated feature (f23) and check to see if it's closely correlated (neighboring in the clustermap) to any features already chosen.  If no, add to the list.  If yes, discard.\n",
    "3. Repeat this process until either (1) we've reached the target feature count, or (2) we've run out strongly correlated features.  \n",
    "\n",
    "Following that heuristic, I get:"
   ]
  },
  {
   "cell_type": "code",
   "execution_count": 144,
   "metadata": {
    "collapsed": true
   },
   "outputs": [],
   "source": [
    "selected_features = ['f33','f23','f42','f41','f31']"
   ]
  },
  {
   "cell_type": "markdown",
   "metadata": {},
   "source": [
    "Note that this list of features is not simply the highest correlated features.  Let's run the clustermap one more time to see if we've missed any major clusters.  "
   ]
  },
  {
   "cell_type": "code",
   "execution_count": 145,
   "metadata": {},
   "outputs": [
    {
     "data": {
      "image/png": "[encoded data removed]",
      "text/plain": [
       "<matplotlib.figure.Figure at 0x1a1fdf5940>"
      ]
     },
     "metadata": {},
     "output_type": "display_data"
    }
   ],
   "source": [
    "corr_matrix = df[selected_features].corr()\n",
    "correlations_array = np.asarray(corr_matrix)\n",
    "\n",
    "linkage = hierarchy.linkage(distance.pdist(correlations_array), method='average')\n",
    "\n",
    "g = sns.clustermap(corr_matrix,row_linkage=linkage,col_linkage=linkage,row_cluster=True,\\\n",
    "                   col_cluster=True,figsize=(6,6),cmap='Greens')\n",
    "plt.setp(g.ax_heatmap.yaxis.get_majorticklabels(), rotation=0)\n",
    "plt.show()\n",
    "\n",
    "label_order = corr_matrix.iloc[:,g.dendrogram_row.reordered_ind].columns\n"
   ]
  },
  {
   "cell_type": "markdown",
   "metadata": {},
   "source": [
    "Looks generally pretty good.  This can be a bit subjective to determine what's \"too close\" and what's \"too weak\", but that's the basic idea.  \n",
    "\n",
    "Thus far, we've only taken a simple correlation statistic to be representative of predictive power.  In my opinion, that's a good place to start but because financial time series data suffers from [non-stationarity]() and [regime change](), we'll plot the rolling correlation of these selected features to see if any is either (1) less correlated now than in times past or (2) very \"hot-and-cold\".  "
   ]
  },
  {
   "cell_type": "code",
   "execution_count": 147,
   "metadata": {},
   "outputs": [
    {
     "data": {
      "text/plain": [
       "<matplotlib.axes._subplots.AxesSubplot at 0x1a2004f080>"
      ]
     },
     "execution_count": 147,
     "metadata": {},
     "output_type": "execute_result"
    },
    {
     "data": {
      "image/png": "[encoded data removed]",
      "text/plain": [
       "<matplotlib.figure.Figure at 0x1a2194ea20>"
      ]
     },
     "metadata": {},
     "output_type": "display_data"
    }
   ],
   "source": [
    "tmp = df[selected_features].join(outcome_scaled).reset_index().set_index('date')\n",
    "tmp.dropna().resample('Q').apply(lambda x: x.corr()).iloc[:,-1].unstack().iloc[:,:-1].plot()\n",
    "# shows time stability"
   ]
  },
  {
   "cell_type": "markdown",
   "metadata": {},
   "source": [
    "As expected, since the data wasn't modeled with any non-stationarity, our features all appear to be robust over time."
   ]
  },
  {
   "cell_type": "markdown",
   "metadata": {},
   "source": [
    "### Z-Scores\n",
    "A very popular/useful transformation for financial time series data is the [z-score](http://stattrek.com/statistics/dictionary.aspx?definition=z-score).  We can easily define a generalized lambda function for this, which we can use whenever needed.  Importantly, it allows us to mix together very different symbols (some high-beta, some low-beta) in a way that considers the statistical significance of any movement.  \n"
   ]
  },
  {
   "cell_type": "code",
   "execution_count": 8,
   "metadata": {},
   "outputs": [
    {
     "data": {
      "text/plain": [
       "<matplotlib.axes._subplots.AxesSubplot at 0x10e6759b0>"
      ]
     },
     "execution_count": 8,
     "metadata": {},
     "output_type": "execute_result"
    },
    {
     "data": {
      "image/png": "[encoded data removed]",
      "text/plain": [
       "<matplotlib.figure.Figure at 0x10e637d30>"
      ]
     },
     "metadata": {},
     "output_type": "display_data"
    }
   ],
   "source": [
    "zscore_fxn = lambda x: (x - x.mean()) / x.std()\n",
    "features['f09'] =prices.groupby(level='symbol').close.apply(zscore_fxn)\n",
    "features.f09.unstack().plot.kde(title='Z-Scores (not quite accurate)')"
   ]
  },
  {
   "cell_type": "markdown",
   "metadata": {},
   "source": [
    "However, the above example has a subtle but important bug.  It uses the mean _of the whole time frame_ and the standard deviation _of the whole time frame_ to calculate each datapoint.  This means we are peeking ahead into the future and the feature is potentially very danger-prone (it'll work famously well in sample and fail to work out of sample...).\n",
    "\n",
    "Fixing this is cumbersome, but necessary.  "
   ]
  },
  {
   "cell_type": "code",
   "execution_count": 9,
   "metadata": {
    "scrolled": false
   },
   "outputs": [
    {
     "data": {
      "text/plain": [
       "<matplotlib.axes._subplots.AxesSubplot at 0x114ba6208>"
      ]
     },
     "execution_count": 9,
     "metadata": {},
     "output_type": "execute_result"
    },
    {
     "data": {
      "image/png": "[encoded data removed]",
      "text/plain": [
       "<matplotlib.figure.Figure at 0x1a1df30128>"
      ]
     },
     "metadata": {},
     "output_type": "display_data"
    }
   ],
   "source": [
    "zscore_fun_improved = lambda x: (x - x.rolling(window=200, min_periods=20).mean())/ x.rolling(window=200, min_periods=20).std()\n",
    "features['f10'] =prices.groupby(level='symbol').close.apply(zscore_fun_improved)\n",
    "features.f10.unstack().plot.kde(title='Z-Scores (Correct)')"
   ]
  },
  {
   "cell_type": "markdown",
   "metadata": {},
   "source": [
    "### Percentile\n",
    "Less commonly used - but equally useful - is the percentile transformation.  Getting this done properly in pandas (with groupby and rolling) is possible but tricky.  The below example returns the percentile rank (from 0.00 to 1.00) of traded volume for each value as compared to a trailing 200 day period.  \n",
    "\n",
    "Note that we need to use _a lambda within a lambda_ to make this work properly.  We're on the bleeding edge.\n"
   ]
  },
  {
   "cell_type": "code",
   "execution_count": 10,
   "metadata": {
    "collapsed": true
   },
   "outputs": [],
   "source": [
    "rollrank_fxn = lambda x: x.rolling(200,min_periods=20).apply(lambda x: pd.Series(x).rank(pct=True)[0],raw=True)\n",
    "features['f11'] = prices.groupby(level='symbol').volume.apply(rollrank_fxn)"
   ]
  },
  {
   "cell_type": "markdown",
   "metadata": {},
   "source": [
    "Another interesting application of this same pattern is to rank each stock _cross-sectionally_ rather than _longitudinally_ as above.  In other words, where does this stock rank within all of the stocks on that day, not for all prior days of that stock.  The below example isn't very meaningful with only two stocks, but quite useful when using a realistic universe.  In this example, we're also making use of an earlier feature (relative volume) to compare which symbol is most heavily traded _for that stock's normal range_ in a given day.  Also note that we need to `dropna()` prior to ranking because `rank` doesn't handle nulls very gracefully.   "
   ]
  },
  {
   "cell_type": "code",
   "execution_count": 11,
   "metadata": {
    "collapsed": true
   },
   "outputs": [],
   "source": [
    "features['f12'] = features['f07'].dropna().groupby(level='date').rank(pct=True) \n"
   ]
  },
  {
   "cell_type": "markdown",
   "metadata": {},
   "source": [
    "### Technical Analysis\n",
    "Those with a taste for technical analysis may find it difficult to let go of your favored TA techniques.  While this is not _my_ favored approach, you'll have no problem engineering features using these methods.  From my cursory googling, it looked as though the `ta` package would be a good place to start.  Very new and only one contributor but it looks fairly complete and well documented.  If you find that it's missing your favorite indicators, consider contributing to the package.  If you know of better such packages, please post in the comments below...  \n",
    "\n",
    "You may consider mean-centering a technical indicator so that machine learning methods can make better use of the data (or make sure to include that in the pre-processing pipeline when you start modeling).  \n"
   ]
  },
  {
   "cell_type": "code",
   "execution_count": 12,
   "metadata": {
    "collapsed": true
   },
   "outputs": [],
   "source": [
    "import ta # technical analysis library: https://technical-analysis-library-in-python.readthedocs.io/en/latest/\n",
    "# money flow index (14 day)\n",
    "features['f13'] = ta.momentum.money_flow_index(prices.high, prices.low, prices.close, prices.volume, n=14, fillna=False)\n",
    "# mean-centered money flow index\n",
    "features['f14'] = features['f13'] - features['f13'].rolling(200,min_periods=20).mean()\n"
   ]
  },
  {
   "cell_type": "markdown",
   "metadata": {},
   "source": [
    "## Alternative Representations\n",
    "A bit different than transforms are \"representations\", i.e., other ways to represent continuous values.  All of the transforms above returned continuous values rather than \"labels\", and that's often a good place to start - especally for early prototypes.\n",
    "\n",
    "However, you may want to represent the data in different ways, especially if using classification-based approaches or worried about the [curse of dimensionality](https://en.wikipedia.org/wiki/Curse_of_dimensionality) due to large numbers of features.  "
   ]
  },
  {
   "cell_type": "markdown",
   "metadata": {},
   "source": [
    "### Binning\n",
    "We can easily convert a continous variable to discrete \"bins\" (like 1 to 10).  This loses information, of course, but sometimes loss of information is a good thing if you are removing more noise than signal.  \n",
    "\n",
    "The below example shows volumes converted into ten equally sized buckets.  In other words, we've converted a continuous variable into a discrete one.  \n",
    "\n",
    "NOTE: this example is not applied in a rolling fashion, so it __does suffer from some data peeking__, a cardinal sin.  At the moment, I'm failing in my efforts to implement it in a rolling way.  I'd be grateful for code snippets if anyone knows how to do this offhand.   "
   ]
  },
  {
   "cell_type": "code",
   "execution_count": 13,
   "metadata": {
    "collapsed": true
   },
   "outputs": [],
   "source": [
    "n_bins = 10\n",
    "bin_fxn = lambda y: pd.qcut(y,q=n_bins,labels = range(1,n_bins+1))\n",
    "features['f15'] = prices.volume.groupby(level='symbol').apply(bin_fxn)\n"
   ]
  },
  {
   "cell_type": "markdown",
   "metadata": {},
   "source": [
    "### Sign\n",
    "Very simply, you may wish to convert continuous variables into positive or negative (1 or -1) values, depending on input.  For instance, was volume increasing or decreasing today?  \n"
   ]
  },
  {
   "cell_type": "code",
   "execution_count": 14,
   "metadata": {
    "collapsed": true
   },
   "outputs": [],
   "source": [
    "features['f16'] = features['f05'].apply(np.sign)\n"
   ]
  },
  {
   "cell_type": "markdown",
   "metadata": {},
   "source": [
    "### Plus-Minus\n",
    "You may be interested in how many days in a row a value has increased (or decreased).  Below is a simple pattern to do just that - it calculates the number of up-days minus the number of down days.  \n"
   ]
  },
  {
   "cell_type": "code",
   "execution_count": 15,
   "metadata": {
    "collapsed": true
   },
   "outputs": [],
   "source": [
    "plus_minus_fxn = lambda x: x.rolling(20).sum()\n",
    "features['f17'] = features['f16'].groupby(level='symbol').apply(plus_minus_fxn)"
   ]
  },
  {
   "cell_type": "markdown",
   "metadata": {},
   "source": [
    "### One-Hot Encoding\n",
    "Possibly the most frequently used alternative representation is \"one-hot encoding\" where a categorical variable is represented as a binary.  For instance, month_of_year would be represented as twelve different columns, each of which was either 0 or 1.  January would be [1,0,0,0,...0] etc...  \n",
    "\n",
    "This is absolutely crucial in a few circumstances.  The first is where there is false meaning in the \"ordinality\" of values.  If we were looking to test the \"santa claus effect\" hypothesis, it wouldn't be helpful to use a month_of_year feature where January was \"the least\" and December was \"the most\".  \n",
    "\n",
    "The second is in cases where we are representing events or \"states\".  Does the word \"lawsuit\" appear within the 10-Q footnotes?  Is the company in the blackout period for share buybacks?  \n",
    "\n",
    "Finally, the particular machine learning algorithm (tree-based, neural networks) may find it easier to use binary representations than continuous or discrete ones.  \n",
    "\n",
    "The below example creates twelve one-hot features, one for each month, and names them automatically "
   ]
  },
  {
   "cell_type": "code",
   "execution_count": 16,
   "metadata": {
    "collapsed": true
   },
   "outputs": [],
   "source": [
    "month_of_year = prices.index.get_level_values(level='date').month\n",
    "one_hot_frame = pd.DataFrame(pd.get_dummies(month_of_year))\n",
    "one_hot_frame.index = prices.index # Careful!  This is forcing index values without usual pandas alignments!\n",
    "\n",
    "# create column names \n",
    "begin_num = int(features.columns[-1][-2:]) + 1 #first available feature\n",
    "feat_names = ['f'+str(num) for num in list(range(begin_num,begin_num+12,1))]\n",
    "\n",
    "# rename columns and merge\n",
    "one_hot_frame.columns = feat_names\n",
    "features = features.join(one_hot_frame)\n"
   ]
  },
  {
   "cell_type": "markdown",
   "metadata": {},
   "source": [
    "## Data Cleansing\n",
    "OK, I've put this off long enough.  It's time to cover the least interesting and possibly most critical aspect of feature engineering... data cleansing!  \n",
    "\n",
    "Many will include data cleansing as part of the raw data collection pipeline rather than the feature engineering step - and I can't argue with cleansing data as early in the process as possible.  However, your data can never be too clean so I take the \"belt and suspenders\" approach.  Clean your data on collection, clean on usage.  Clean, clean, clean!    \n",
    "\n",
    "The motivation for \n",
    "* to_datetime, to_numeric, astype() (int, string, float...)\n",
    "* fillna(ffill, 0, mean)"
   ]
  },
  {
   "cell_type": "markdown",
   "metadata": {},
   "source": [
    "### Data Typing\n",
    "If you've spent any time with data work in python, you're already familiar with the sometimes annoying data typing issues of a \"duck typed\" language.  Pandas does an admirable job of inferring types from your data but you'll sometimes want to exercise more control to make sure your data is perfect.  \n",
    "\n",
    "The first data typing issue I face is representation of dates and times, which can be represented in several different formats.  I prefer to standardize all datetimes using the pandas pd.to_datetime() method which yields two main benefits: (1) you will be able to align and join multiple datetime values together and (2) you'll be able to take advantage of the many pandas date/time functions.\n",
    "\n",
    "Example:"
   ]
  },
  {
   "cell_type": "code",
   "execution_count": null,
   "metadata": {
    "collapsed": true
   },
   "outputs": [],
   "source": [
    "## code of casting to datetime, selecting weekday etc...\n"
   ]
  },
  {
   "cell_type": "markdown",
   "metadata": {},
   "source": [
    "If you fail to control your datetime typing, you'll inevitably end up with difficulty in aligning and joining data on date, like this:  "
   ]
  },
  {
   "cell_type": "code",
   "execution_count": null,
   "metadata": {
    "collapsed": true
   },
   "outputs": [],
   "source": [
    "# example of a str and a datetime repr which are joined on axis=1 and result in an awkward dataframe"
   ]
  },
  {
   "cell_type": "markdown",
   "metadata": {},
   "source": [
    "Among the pandas date/time functions is a very useful resampling method, which allows you to aggregate from a higher frequency (e.g., hourly) to a lower frequency (e.g., daily or weekly or monthly).  Depending on the timeframe of your strategy, you may seek to resample everything to a lower frequency "
   ]
  },
  {
   "cell_type": "code",
   "execution_count": null,
   "metadata": {
    "collapsed": true
   },
   "outputs": [],
   "source": [
    "## example of resampling\n"
   ]
  },
  {
   "cell_type": "markdown",
   "metadata": {},
   "source": [
    "The other main typing issue I find is with numeric types. Number values are commonly represented as integers, floats, and strings which look like integers or floats.  Pandas attempts to guess the right type for data when it's loaded (via `read_csv` or `read_sql` etc..).  Problems arise when there are some values within a column which don't follow the type .\n",
    "\n",
    "The below example illustrates how "
   ]
  },
  {
   "cell_type": "code",
   "execution_count": 53,
   "metadata": {},
   "outputs": [
    {
     "name": "stdout",
     "output_type": "stream",
     "text": [
      "  symbol price\n",
      "0      a     1\n",
      "1      b     2\n",
      "2      c     3\n",
      "3      d     4\n",
      "4      e  None\n",
      "\n",
      "Average:  Series([], dtype: float64)\n",
      "\n",
      "######################\n",
      "\n",
      "  symbol  price\n",
      "0      a    1.0\n",
      "1      b    2.0\n",
      "2      c    3.0\n",
      "3      d    4.0\n",
      "4      e    NaN\n",
      "\n",
      "Average:  price    2.5\n",
      "dtype: float64\n"
     ]
    }
   ],
   "source": [
    "df = pd.DataFrame({'symbol':['a','b','c','d','e'],'price':[1,2,3,4,'None']})\n",
    "print(df)\n",
    "print()\n",
    "print('Average: ',df.mean()) # no results\n",
    "print()\n",
    "print('######################')\n",
    "# retype to numeric\n",
    "\n",
    "print()\n",
    "df['price'] = pd.to_numeric(df.price,errors='coerce')\n",
    "print(df)\n",
    "print()\n",
    "print('Average: ',df.mean()) # works\n"
   ]
  },
  {
   "cell_type": "code",
   "execution_count": null,
   "metadata": {
    "collapsed": true
   },
   "outputs": [],
   "source": []
  },
  {
   "cell_type": "markdown",
   "metadata": {},
   "source": [
    "### Handling Missing Data\n",
    "Incomplete data is a reality for us all.  Whether it's because some input sources are of a lower frequency, shorter history (i.e., don't go back as far in time) or have unexplained unavailable data points at times, we need a thoughtful approach for addressing missing data.\n",
    "\n",
    "Most machine learning algorithms require a valid value for each feature at each observation point (or they will fail to run...). If we don't apply some sensible workarounds, we'll end up dropping lots of _valid_ data points because of a single missing feature.  \n",
    "\n",
    "Before outlining the tactics and code patterns we can apply, my core principles for data cleansing are:\n",
    "1. Always try to reflect the data you might have applied _at the time_ of the missing data point.  In other words, don't peek into the future if at all possible.   \n",
    "2. Drop valid data only as a last resort (and as late in the process as possible).  \n",
    "3. Questionable data (i.e., extreme outliers) should be treated like missing data.\n",
    "\n"
   ]
  },
  {
   "cell_type": "code",
   "execution_count": null,
   "metadata": {
    "collapsed": true
   },
   "outputs": [],
   "source": []
  },
  {
   "cell_type": "code",
   "execution_count": null,
   "metadata": {
    "collapsed": true
   },
   "outputs": [],
   "source": [
    "### Formatting\n"
   ]
  },
  {
   "cell_type": "markdown",
   "metadata": {},
   "source": [
    "Whew!  That was (much) longer than intended.  Feature engineering is a broad subject of which I've only scratched the surface.  Hopefully this will provide you with a framework and starting point to get your own process up and running so that you can focus on applying your creativity and your expertise on the subject matter of choice.\n",
    "\n",
    "In the next post of this series, I will outline a process [feature selection]() - the next logical step following feature engineering.  Questions, comments, or suggestions are welcomed below.  "
   ]
  },
  {
   "cell_type": "code",
   "execution_count": null,
   "metadata": {
    "collapsed": true
   },
   "outputs": [],
   "source": []
  },
  {
   "cell_type": "code",
   "execution_count": 108,
   "metadata": {
    "scrolled": false
   },
   "outputs": [
    {
     "name": "stdout",
     "output_type": "stream",
     "text": [
      "            values\n",
      "day symbol        \n",
      "1   bar        100\n",
      "    foo        200\n",
      "2   bar        101\n",
      "    foo        201\n",
      "3   bar        102\n",
      "    foo        202\n",
      "4   bar        103\n",
      "    foo        203\n",
      "day  symbol\n",
      "1    bar       NaN\n",
      "     foo       NaN\n",
      "2    bar       1.0\n",
      "     foo       1.0\n",
      "3    bar       1.0\n",
      "     foo       1.0\n",
      "4    bar       1.0\n",
      "     foo       1.0\n",
      "Name: values, dtype: float64\n",
      "day  symbol\n",
      "1    bar            NaN\n",
      "     foo       1.000000\n",
      "2    bar      -0.495000\n",
      "     foo       0.990099\n",
      "3    bar      -0.492537\n",
      "     foo       0.980392\n",
      "4    bar      -0.490099\n",
      "     foo       0.970874\n",
      "Name: values, dtype: float64\n",
      "day  symbol\n",
      "1    bar            NaN\n",
      "     foo            NaN\n",
      "2    bar       0.010000\n",
      "     foo       0.005000\n",
      "3    bar       0.009901\n",
      "     foo       0.004975\n",
      "4    bar       0.009804\n",
      "     foo       0.004950\n",
      "Name: values, dtype: float64\n",
      "day  symbol\n",
      "1    bar            NaN\n",
      "     foo            NaN\n",
      "2    bar       0.010000\n",
      "     foo       0.005000\n",
      "3    bar       0.009901\n",
      "     foo       0.004975\n",
      "4    bar       0.009804\n",
      "     foo       0.004950\n",
      "Name: values, dtype: float64\n"
     ]
    }
   ],
   "source": [
    "import numpy as np\n",
    "arrays = [np.array([1,2,3,4,1,2,3,4]),np.array(['bar', 'bar', 'bar', 'bar', 'foo', 'foo', 'foo', 'foo'])]\n",
    "s = pd.Series(np.array([100,101,102,103,200,201,202,203]), index=arrays)\n",
    "s.name='values'\n",
    "df = pd.DataFrame(s, index=arrays).sort_index()\n",
    "df.index.names =['day','symbol']\n",
    "print(df)\n",
    "\n",
    "print(df.groupby(level='symbol').values.diff())\n",
    "\n",
    "print(df.groupby(level='symbol').values.pct_change())\n",
    "\n",
    "my_func = lambda x: x.pct_change()\n",
    "print(df.groupby(level='symbol').values.apply(my_func))\n",
    "\n",
    "print(df.groupby(level='symbol').values.diff() / df.groupby(level='symbol').values.shift(1))\n",
    "\n"
   ]
  }
 ],
 "metadata": {
  "kernelspec": {
   "display_name": "Python 3",
   "language": "python",
   "name": "python3"
  },
  "language_info": {
   "codemirror_mode": {
    "name": "ipython",
    "version": 3
   },
   "file_extension": ".py",
   "mimetype": "text/x-python",
   "name": "python",
   "nbconvert_exporter": "python",
   "pygments_lexer": "ipython3",
   "version": "3.6.2"
  }
 },
 "nbformat": 4,
 "nbformat_minor": 2
}
